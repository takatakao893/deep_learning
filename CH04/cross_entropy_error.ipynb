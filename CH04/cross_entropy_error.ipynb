{
 "cells": [
  {
   "cell_type": "code",
   "execution_count": 8,
   "id": "fde49984",
   "metadata": {},
   "outputs": [
    {
     "name": "stdout",
     "output_type": "stream",
     "text": [
      "0.510825457099338\n",
      "2.302584092994546\n",
      "0.510825457099338\n",
      "2.302584092994546\n"
     ]
    }
   ],
   "source": [
    "# one-hot表現の場合\n",
    "# yはニューラルネットワークの出力 tは教師データ\n",
    "def cross_entropy_error(y, t):\n",
    "    # 複数データに対応できるよう2次元配列に変換\n",
    "    if y.ndim == 1:\n",
    "        t = t.reshape(1, t.size)\n",
    "        y = y.reshape(1, y.size)\n",
    "    \n",
    "    batch_size = y.shape[0]\n",
    "    return -np.sum(t * np.log(y + 1e-7)) / batch_size\n",
    "\n",
    "# 仮の出力データ\n",
    "y = np.array([0.1,0.05,0.6,0.0,0.05,0.1,0.0,0.1,0.0,0.0])\n",
    "# 仮の教師データ\n",
    "t = np.array([0,0,1,0,0,0,0,0,0,0])\n",
    "# tが2としたら交差エントロピー誤差は\n",
    "print(cross_entropy_error(y,t))\n",
    "t = np.array([0,0,0,0,0,0,0,1,0,0])\n",
    "# tが7のときの交差エントロピー誤差は\n",
    "print(cross_entropy_error(y,t))\n",
    "\n",
    "# 「7」や「2」といったラベル表現の場合\n",
    "def cross_entropy_error(y, t):\n",
    "    if y.ndim == 1:\n",
    "        t = t.reshape(1, t.size)\n",
    "        y = y.reshape(1, y.size)\n",
    "    \n",
    "    batch_size = y.shape[0]\n",
    "    # 出力から各データの正解ラベルに関する要素を抽出\n",
    "    return -np.sum(np.log(y[np.arange(batch_size), t] + 1e-7)) / batch_size\n",
    "\n",
    "t = np.array(2)\n",
    "print(cross_entropy_error(y,t))\n",
    "t = np.array(7)\n",
    "print(cross_entropy_error(y,t))"
   ]
  },
  {
   "cell_type": "code",
   "execution_count": null,
   "id": "e05b6e4b",
   "metadata": {},
   "outputs": [],
   "source": []
  }
 ],
 "metadata": {
  "kernelspec": {
   "display_name": "Python 3 (ipykernel)",
   "language": "python",
   "name": "python3"
  },
  "language_info": {
   "codemirror_mode": {
    "name": "ipython",
    "version": 3
   },
   "file_extension": ".py",
   "mimetype": "text/x-python",
   "name": "python",
   "nbconvert_exporter": "python",
   "pygments_lexer": "ipython3",
   "version": "3.9.13"
  }
 },
 "nbformat": 4,
 "nbformat_minor": 5
}

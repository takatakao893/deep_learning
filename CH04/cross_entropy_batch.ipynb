{
 "cells": [
  {
   "cell_type": "code",
   "execution_count": 5,
   "id": "505d9c4d",
   "metadata": {},
   "outputs": [
    {
     "name": "stdout",
     "output_type": "stream",
     "text": [
      "[[0.1  0.05 0.6  0.   0.05 0.1  0.   0.1  0.   0.  ]\n",
      " [0.1  0.1  0.1  0.1  0.1  0.1  0.1  0.1  0.1  0.1 ]\n",
      " [0.1  0.05 0.1  0.   0.05 0.1  0.   0.6  0.   0.  ]]\n",
      "(3, 10)\n",
      "[[0 0 1 0 0 0 0 0 0 0]\n",
      " [0 0 0 0 0 0 0 0 1 0]\n",
      " [0 0 1 0 0 0 0 0 0 0]]\n",
      "(3, 10)\n"
     ]
    }
   ],
   "source": [
    "import numpy as np\n",
    "\n",
    "# 複数データに対応した交差エントロピー誤差\n",
    "# 仮のニューラルネットワークの出力\n",
    "y = np.array([\n",
    "    [0.1,0.05,0.6,0.0,0.05,0.1,0.0,0.1,0.0,0.0],\n",
    "    [0.1,0.1,0.1,0.1,0.1,0.1,0.1,0.1,0.1,0.1],\n",
    "    [0.1,0.05,0.1,0.0,0.05,0.1,0.0,0.6,0.0,0.0]\n",
    "])\n",
    "print(y)\n",
    "print(y.shape)\n",
    "\n",
    "# 仮の教師データを作成 (損失関数の計算は学習過程にあるので、テストデータではないのが明か)\n",
    "t = np.array([\n",
    "    [0,0,1,0,0,0,0,0,0,0],\n",
    "    [0,0,0,0,0,0,0,0,1,0],\n",
    "    [0,0,1,0,0,0,0,0,0,0]\n",
    "])\n",
    "print(t)\n",
    "print(t.shape)"
   ]
  },
  {
   "cell_type": "code",
   "execution_count": 6,
   "id": "df2dbebc",
   "metadata": {},
   "outputs": [
    {
     "name": "stdout",
     "output_type": "stream",
     "text": [
      "[[ -2.3   -3.    -0.51 -16.12  -3.    -2.3  -16.12  -2.3  -16.12 -16.12]\n",
      " [ -2.3   -2.3   -2.3   -2.3   -2.3   -2.3   -2.3   -2.3   -2.3   -2.3 ]\n",
      " [ -2.3   -3.    -2.3  -16.12  -3.    -2.3  -16.12  -0.51 -16.12 -16.12]]\n"
     ]
    }
   ],
   "source": [
    "# 微小な値を設定\n",
    "delta = 1e-7\n",
    "\n",
    "# 出力の対数をとる\n",
    "log_y = np.log(y + delta)\n",
    "print(np.round(log_y, 2))"
   ]
  },
  {
   "cell_type": "code",
   "execution_count": 7,
   "id": "9e5b825d",
   "metadata": {},
   "outputs": [
    {
     "name": "stdout",
     "output_type": "stream",
     "text": [
      "[[-0.   -0.   -0.51 -0.   -0.   -0.   -0.   -0.   -0.   -0.  ]\n",
      " [-0.   -0.   -0.   -0.   -0.   -0.   -0.   -0.   -2.3  -0.  ]\n",
      " [-0.   -0.   -2.3  -0.   -0.   -0.   -0.   -0.   -0.   -0.  ]]\n",
      "-5.11599364308843\n"
     ]
    }
   ],
   "source": [
    "# 教師データと出力の対数の積を計算\n",
    "tmp = t * log_y\n",
    "print(np.round(tmp, 2))\n",
    "# 教師データと出力の対数の積の和を計算\n",
    "tmp = np.sum(t * np.log(y + delta))\n",
    "print(tmp)"
   ]
  },
  {
   "cell_type": "code",
   "execution_count": 8,
   "id": "9a2abc0c",
   "metadata": {},
   "outputs": [
    {
     "name": "stdout",
     "output_type": "stream",
     "text": [
      "3\n",
      "1.70533121436281\n"
     ]
    }
   ],
   "source": [
    "# 複数データなので、バッチサイズで割る\n",
    "batch_size = y.shape[0]\n",
    "print(batch_size)\n",
    "\n",
    "# 交差エントロピー誤差を計算\n",
    "E = -np.sum(t * np.log(y + delta)) / batch_size\n",
    "print(E)"
   ]
  },
  {
   "cell_type": "code",
   "execution_count": null,
   "id": "84d4e336",
   "metadata": {},
   "outputs": [],
   "source": []
  }
 ],
 "metadata": {
  "kernelspec": {
   "display_name": "Python 3 (ipykernel)",
   "language": "python",
   "name": "python3"
  },
  "language_info": {
   "codemirror_mode": {
    "name": "ipython",
    "version": 3
   },
   "file_extension": ".py",
   "mimetype": "text/x-python",
   "name": "python",
   "nbconvert_exporter": "python",
   "pygments_lexer": "ipython3",
   "version": "3.9.13"
  }
 },
 "nbformat": 4,
 "nbformat_minor": 5
}

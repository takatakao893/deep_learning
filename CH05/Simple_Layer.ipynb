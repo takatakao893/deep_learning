{
 "cells": [
  {
   "cell_type": "code",
   "execution_count": 7,
   "id": "913b3791",
   "metadata": {},
   "outputs": [
    {
     "name": "stdout",
     "output_type": "stream",
     "text": [
      "200\n"
     ]
    }
   ],
   "source": [
    "# りんごの値段\n",
    "apple = 100\n",
    "\n",
    "# りんごの個数\n",
    "apple_num = 2\n",
    "\n",
    "# 消費税\n",
    "tax = 1.1\n",
    "\n",
    "# 1つ目の計算\n",
    "t = apple * apple_num\n",
    "print(t)"
   ]
  },
  {
   "cell_type": "code",
   "execution_count": 8,
   "id": "fca2b097",
   "metadata": {},
   "outputs": [
    {
     "name": "stdout",
     "output_type": "stream",
     "text": [
      "220.00000000000003\n"
     ]
    }
   ],
   "source": [
    "# 2つ目の計算(順伝播の出力)\n",
    "z = t * tax\n",
    "print(z)"
   ]
  },
  {
   "cell_type": "code",
   "execution_count": 9,
   "id": "3b762ff7",
   "metadata": {},
   "outputs": [
    {
     "name": "stdout",
     "output_type": "stream",
     "text": [
      "1.1\n",
      "100\n",
      "2.2\n",
      "110.00000000000001\n"
     ]
    }
   ],
   "source": [
    "# 逆伝播の入力\n",
    "dz = 1\n",
    "dt = dz * tax\n",
    "dtax = dz * apple\n",
    "print(dt)\n",
    "print(dtax)\n",
    "# ２つ目の計算(逆伝播の出力)\n",
    "dapple = dt * apple_num\n",
    "dapple_num = dt * apple\n",
    "print(dapple)\n",
    "print(dapple_num)"
   ]
  },
  {
   "cell_type": "code",
   "execution_count": 10,
   "id": "01bd8ed4",
   "metadata": {},
   "outputs": [
    {
     "name": "stdout",
     "output_type": "stream",
     "text": [
      "None\n",
      "None\n"
     ]
    }
   ],
   "source": [
    "# 乗算レイヤの実装\n",
    "class MulLayer:\n",
    "    \n",
    "    # インスタンス変数を定義\n",
    "    def __init__(self):\n",
    "        # 受け皿を作成\n",
    "        self.x = None\n",
    "        self.y = None\n",
    "    \n",
    "    # 順伝播メソッドを定義\n",
    "    def forward(self, x, y):\n",
    "        # インスタンス変数に値を代入\n",
    "        self.x = x\n",
    "        self.y = y\n",
    "        \n",
    "        # 乗算\n",
    "        out = x*y\n",
    "        \n",
    "        return out\n",
    "    \n",
    "    # 逆伝播メソッドを定義\n",
    "    def backward(self, dout):\n",
    "        # 入力と偏微分の積\n",
    "        dx = dout * self.y\n",
    "        dy = dout * self.x\n",
    "        \n",
    "        return dx, dy # (受け取る時に変数が二つ必要！)\n",
    "    \n",
    "# インスタンスを作成\n",
    "\n",
    "# 第一層\n",
    "mul_apple_layer = MulLayer()\n",
    "\n",
    "# 第2層\n",
    "mul_tax_layer = MulLayer()\n",
    "\n",
    "# インスタンス変数を確認\n",
    "print(mul_apple_layer.x)\n",
    "print(mul_apple_layer.y)"
   ]
  },
  {
   "cell_type": "code",
   "execution_count": 11,
   "id": "3544caed",
   "metadata": {},
   "outputs": [
    {
     "name": "stdout",
     "output_type": "stream",
     "text": [
      "200\n",
      "220.00000000000003\n"
     ]
    }
   ],
   "source": [
    "# 1つ目の計算\n",
    "apple_price = mul_apple_layer.forward(apple, apple_num)\n",
    "print(apple_price)\n",
    "\n",
    "# 2つ目の計算\n",
    "price = mul_tax_layer.forward(apple_price, tax)\n",
    "print(price)"
   ]
  },
  {
   "cell_type": "code",
   "execution_count": 15,
   "id": "37e20cbf",
   "metadata": {},
   "outputs": [
    {
     "name": "stdout",
     "output_type": "stream",
     "text": [
      "450\n"
     ]
    }
   ],
   "source": [
    "# オレンジの値段\n",
    "orange = 150\n",
    "\n",
    "# オレンジの個数\n",
    "orange_num = 3\n",
    "\n",
    "# 第1層のインスタンス\n",
    "mul_orange_layer = MulLayer()\n",
    "\n",
    "# みかんの合計金額を計算(第1層の計算)\n",
    "orange_price = mul_orange_layer.forward(orange, orange_num)\n",
    "print(orange_price)"
   ]
  },
  {
   "cell_type": "code",
   "execution_count": 16,
   "id": "c3f1588e",
   "metadata": {},
   "outputs": [],
   "source": [
    "# 加算レイヤを実装\n",
    "class AddLayer:\n",
    "    \n",
    "    # インスタンス変数を定義\n",
    "    def __init__(self):\n",
    "        # 何もしない\n",
    "        pass\n",
    "    \n",
    "    # 順伝播メソッドを定義\n",
    "    def forward(self, x, y):\n",
    "        # 加算\n",
    "        out = x + y\n",
    "        return out\n",
    "    \n",
    "    # 逆伝播メソッドを定義\n",
    "    def backward(self, dout):\n",
    "        # 入力と偏微分の積\n",
    "        dx = dout * 1\n",
    "        dy = dout * 1\n",
    "        return dx, dy"
   ]
  },
  {
   "cell_type": "code",
   "execution_count": 17,
   "id": "c9afa4b5",
   "metadata": {},
   "outputs": [],
   "source": [
    "# 第1層\n",
    "apple = 100\n",
    "apple_num = 2\n",
    "orange = 150\n",
    "orange_num = 3\n",
    "\n",
    "# 第3層\n",
    "tax = 1.1\n",
    "\n",
    "## レイヤ(インスタンス変数)を作成\n",
    "\n",
    "# 第1層\n",
    "mul_apple_layer = MulLayer()\n",
    "mul_orange_layer = MulLayer()\n",
    "\n",
    "# 第2層\n",
    "add_apple_orange_layer = AddLayer()\n",
    "\n",
    "# 第3層\n",
    "mul_tax_layer = MulLayer()"
   ]
  },
  {
   "cell_type": "code",
   "execution_count": 18,
   "id": "988e859b",
   "metadata": {},
   "outputs": [
    {
     "name": "stdout",
     "output_type": "stream",
     "text": [
      "200 450\n",
      "650\n",
      "715.0000000000001\n"
     ]
    }
   ],
   "source": [
    "## 順伝播の計算\n",
    "\n",
    "# 第1層\n",
    "apple_price = mul_apple_layer.forward(apple, apple_num)\n",
    "orange_price = mul_orange_layer.forward(orange, orange_num)\n",
    "print(apple_price, orange_price)\n",
    "\n",
    "# 第2層\n",
    "all_price = add_apple_orange_layer.forward(apple_price, orange_price)\n",
    "print(all_price)\n",
    "\n",
    "# 第3層\n",
    "price = mul_tax_layer.forward(all_price, tax)\n",
    "print(price)"
   ]
  },
  {
   "cell_type": "code",
   "execution_count": 19,
   "id": "8926e4a6",
   "metadata": {},
   "outputs": [
    {
     "name": "stdout",
     "output_type": "stream",
     "text": [
      "1.1 650\n",
      "2.2 110.00000000000001\n",
      "3.3000000000000003 165.0\n"
     ]
    }
   ],
   "source": [
    "## 逆伝播の計算\n",
    "\n",
    "# 入力\n",
    "dprice = 1\n",
    "\n",
    "# 第3層\n",
    "dall_price, dtax = mul_tax_layer.backward(dprice)\n",
    "print(dall_price, dtax)\n",
    "\n",
    "# 第2層\n",
    "dapple_price, dorange_price = add_apple_orange_layer.backward(dall_price)\n",
    "\n",
    "# 第1層\n",
    "dapple, dapple_num = mul_apple_layer.backward(dapple_price)\n",
    "dorange, dorange_num = mul_orange_layer.backward(dorange_price)\n",
    "print(dapple, dapple_num)\n",
    "print(dorange, dorange_num)"
   ]
  },
  {
   "cell_type": "code",
   "execution_count": null,
   "id": "02072b01",
   "metadata": {},
   "outputs": [],
   "source": []
  }
 ],
 "metadata": {
  "kernelspec": {
   "display_name": "Python 3 (ipykernel)",
   "language": "python",
   "name": "python3"
  },
  "language_info": {
   "codemirror_mode": {
    "name": "ipython",
    "version": 3
   },
   "file_extension": ".py",
   "mimetype": "text/x-python",
   "name": "python",
   "nbconvert_exporter": "python",
   "pygments_lexer": "ipython3",
   "version": "3.9.13"
  }
 },
 "nbformat": 4,
 "nbformat_minor": 5
}

{
 "cells": [
  {
   "cell_type": "code",
   "execution_count": 1,
   "id": "3471bee1",
   "metadata": {},
   "outputs": [
    {
     "name": "stdout",
     "output_type": "stream",
     "text": [
      "[[1 2 3]\n",
      " [4 5 6]\n",
      " [7 8 9]]\n",
      "(3, 3)\n",
      "[[1 4 7]\n",
      " [2 5 8]\n",
      " [3 6 9]]\n",
      "(3, 3)\n"
     ]
    }
   ],
   "source": [
    "import numpy as np\n",
    "import matplotlib.pyplot as plt\n",
    "\n",
    "A = np.array([[1,2,3], [4,5,6], [7,8,9]])\n",
    "print(A)\n",
    "print(A.shape)\n",
    "\n",
    "# 転置\n",
    "print(A.T)\n",
    "print(A.T.shape)"
   ]
  },
  {
   "cell_type": "code",
   "execution_count": 2,
   "id": "da1822d8",
   "metadata": {},
   "outputs": [
    {
     "name": "stdout",
     "output_type": "stream",
     "text": [
      "[[ 1  2  3  4  5]\n",
      " [ 6  7  8  9 10]]\n",
      "(2, 5)\n",
      "[[ 1  6]\n",
      " [ 2  7]\n",
      " [ 3  8]\n",
      " [ 4  9]\n",
      " [ 5 10]]\n",
      "(5, 2)\n"
     ]
    }
   ],
   "source": [
    "B = np.array([[1, 2, 3, 4, 5],[6, 7, 8, 9, 10]])\n",
    "print(B)\n",
    "print(B.shape)\n",
    "\n",
    "# 転置\n",
    "print(B.T)\n",
    "print(B.T.shape)"
   ]
  },
  {
   "cell_type": "code",
   "execution_count": 3,
   "id": "32425bb8",
   "metadata": {},
   "outputs": [
    {
     "name": "stdout",
     "output_type": "stream",
     "text": [
      "(20, 50)\n",
      "(50, 10)\n",
      "(10,)\n"
     ]
    }
   ],
   "source": [
    "# バッチサイズを指定\n",
    "N = 20\n",
    "\n",
    "# 前の層のニューロン数を指定\n",
    "D = 50\n",
    "\n",
    "# 次の層のニューロン数を指定\n",
    "H = 10\n",
    "\n",
    "# (仮の)入力を作成\n",
    "X = np.random.rand(N, D)\n",
    "print(X.shape)\n",
    "\n",
    "# (仮の)重みを作成\n",
    "W = np.random.rand(D, H)\n",
    "print(W.shape)\n",
    "\n",
    "# (仮の)バイアスを作成\n",
    "b = np.random.rand(H)\n",
    "print(b.shape)"
   ]
  },
  {
   "cell_type": "code",
   "execution_count": 4,
   "id": "87a92b15",
   "metadata": {},
   "outputs": [
    {
     "name": "stdout",
     "output_type": "stream",
     "text": [
      "(20, 10)\n"
     ]
    }
   ],
   "source": [
    "# 重み付き和を計算\n",
    "Y = np.dot(X, W) + b\n",
    "print(Y.shape)"
   ]
  },
  {
   "cell_type": "code",
   "execution_count": 5,
   "id": "b825136d",
   "metadata": {},
   "outputs": [
    {
     "name": "stdout",
     "output_type": "stream",
     "text": [
      "(20, 10)\n"
     ]
    }
   ],
   "source": [
    "# (仮の)逆伝播の入力を作成\n",
    "dY = np.random.rand(N, H)\n",
    "print(dY.shape)"
   ]
  },
  {
   "cell_type": "code",
   "execution_count": 6,
   "id": "db133ee4",
   "metadata": {},
   "outputs": [
    {
     "name": "stdout",
     "output_type": "stream",
     "text": [
      "(20, 50)\n",
      "(50, 10)\n",
      "(10,)\n"
     ]
    }
   ],
   "source": [
    "# 順伝播の入力の勾配を計算\n",
    "dX = np.dot(dY, W.T)\n",
    "print(dX.shape)\n",
    "\n",
    "# 重みの勾配を計算\n",
    "dW = np.dot(X.T, dY)\n",
    "print(dW.shape)\n",
    "\n",
    "# バイアスの勾配を計算\n",
    "db = np.sum(dY, axis=0)\n",
    "print(db.shape)"
   ]
  },
  {
   "cell_type": "code",
   "execution_count": 7,
   "id": "6216b1d9",
   "metadata": {},
   "outputs": [],
   "source": [
    "# Affineレイヤの実装\n",
    "class Affine:\n",
    "    # 初期化メソッド\n",
    "    def __init__(self, W, b):\n",
    "        # パラメータを保存\n",
    "        self.W = W # 重み\n",
    "        self.b = b # バイアス\n",
    "        \n",
    "        # 入力と勾配を初期化\n",
    "        self.x = None # 順伝播の入力\n",
    "        self.dW = None # 重みの勾配\n",
    "        self.db = None # バイアスの勾配\n",
    "    \n",
    "    # 順伝播メソッド\n",
    "    def forward(self, x):\n",
    "        # 順伝播の入力を保存\n",
    "        self.x = x\n",
    "        \n",
    "        # 重み付き和を計算\n",
    "        out = np.dot(x, self.W) + self.b\n",
    "        return out\n",
    "    \n",
    "    # 逆伝播メソッド\n",
    "    def backward(self, dout):\n",
    "        # 勾配を計算\n",
    "        \n",
    "        dx = np.dot(dout, self.W.T)      # 順伝播の入力の勾配\n",
    "        self.dW = np.dot(self.x.T, dout) # 重みの勾配\n",
    "        self.db = np.sum(dout, axis=0)   # バイアスの勾配\n",
    "        \n",
    "        # 順伝播の入力の勾配を出力\n",
    "        return dx\n"
   ]
  },
  {
   "cell_type": "code",
   "execution_count": 8,
   "id": "614010e5",
   "metadata": {},
   "outputs": [
    {
     "name": "stdout",
     "output_type": "stream",
     "text": [
      "None\n",
      "(50, 10)\n",
      "(10,)\n"
     ]
    }
   ],
   "source": [
    "# Affineレイヤのインスタンスを作成\n",
    "layer = Affine(W, b)\n",
    "print(layer.x)\n",
    "print(layer.W.shape)\n",
    "print(layer.b.shape)"
   ]
  },
  {
   "cell_type": "code",
   "execution_count": 9,
   "id": "919d1dde",
   "metadata": {},
   "outputs": [
    {
     "name": "stdout",
     "output_type": "stream",
     "text": [
      "(20, 10)\n"
     ]
    }
   ],
   "source": [
    "# 順伝播を計算\n",
    "Y = layer.forward(X)\n",
    "print(Y.shape)"
   ]
  },
  {
   "cell_type": "code",
   "execution_count": 10,
   "id": "ab315099",
   "metadata": {},
   "outputs": [
    {
     "name": "stdout",
     "output_type": "stream",
     "text": [
      "(20, 50)\n",
      "(50, 10)\n",
      "(10,)\n"
     ]
    }
   ],
   "source": [
    "# 逆伝播を計算\n",
    "dX = layer.backward(dY)\n",
    "print(dX.shape)\n",
    "print(layer.dW.shape)\n",
    "print(layer.db.shape)"
   ]
  },
  {
   "cell_type": "code",
   "execution_count": null,
   "id": "12df0a0e",
   "metadata": {},
   "outputs": [],
   "source": []
  }
 ],
 "metadata": {
  "kernelspec": {
   "display_name": "Python 3 (ipykernel)",
   "language": "python",
   "name": "python3"
  },
  "language_info": {
   "codemirror_mode": {
    "name": "ipython",
    "version": 3
   },
   "file_extension": ".py",
   "mimetype": "text/x-python",
   "name": "python",
   "nbconvert_exporter": "python",
   "pygments_lexer": "ipython3",
   "version": "3.9.13"
  }
 },
 "nbformat": 4,
 "nbformat_minor": 5
}
